{
 "cells": [
  {
   "cell_type": "markdown",
   "id": "a6096374-c90c-4724-8bcf-cb1d1dcaf2f8",
   "metadata": {},
   "source": [
    "# Multi layer perceptron"
   ]
  },
  {
   "cell_type": "code",
   "execution_count": 2,
   "id": "f8f1b138-7e4b-4c46-a056-e3565c129576",
   "metadata": {},
   "outputs": [],
   "source": [
    "# Load required libraries\n",
    "from sklearn import datasets\n",
    "from sklearn.preprocessing import StandardScaler\n",
    "from sklearn.neural_network import MLPClassifier # neural network\n",
    "from sklearn.model_selection import train_test_split\n",
    "from sklearn.metrics import accuracy_score\n",
    "import numpy as np\n"
   ]
  },
  {
   "cell_type": "code",
   "execution_count": 3,
   "id": "7111e81f-552e-4b16-ac21-d01fdb3dc204",
   "metadata": {},
   "outputs": [],
   "source": [
    "import numpy as np\n",
    "from sklearn.datasets import load_iris\n",
    "\n",
    "iris_ds = load_iris()\n",
    "#iris_ds\n"
   ]
  },
  {
   "cell_type": "code",
   "execution_count": 4,
   "id": "ff30a87b-949f-4374-819f-b0cc659045b7",
   "metadata": {},
   "outputs": [
    {
     "data": {
      "text/html": [
       "<div>\n",
       "<style scoped>\n",
       "    .dataframe tbody tr th:only-of-type {\n",
       "        vertical-align: middle;\n",
       "    }\n",
       "\n",
       "    .dataframe tbody tr th {\n",
       "        vertical-align: top;\n",
       "    }\n",
       "\n",
       "    .dataframe thead th {\n",
       "        text-align: right;\n",
       "    }\n",
       "</style>\n",
       "<table border=\"1\" class=\"dataframe\">\n",
       "  <thead>\n",
       "    <tr style=\"text-align: right;\">\n",
       "      <th></th>\n",
       "      <th>sepal length (cm)</th>\n",
       "      <th>sepal width (cm)</th>\n",
       "      <th>petal length (cm)</th>\n",
       "      <th>petal width (cm)</th>\n",
       "      <th>class</th>\n",
       "    </tr>\n",
       "  </thead>\n",
       "  <tbody>\n",
       "    <tr>\n",
       "      <th>0</th>\n",
       "      <td>5.1</td>\n",
       "      <td>3.5</td>\n",
       "      <td>1.4</td>\n",
       "      <td>0.2</td>\n",
       "      <td>0</td>\n",
       "    </tr>\n",
       "    <tr>\n",
       "      <th>1</th>\n",
       "      <td>4.9</td>\n",
       "      <td>3.0</td>\n",
       "      <td>1.4</td>\n",
       "      <td>0.2</td>\n",
       "      <td>0</td>\n",
       "    </tr>\n",
       "    <tr>\n",
       "      <th>2</th>\n",
       "      <td>4.7</td>\n",
       "      <td>3.2</td>\n",
       "      <td>1.3</td>\n",
       "      <td>0.2</td>\n",
       "      <td>0</td>\n",
       "    </tr>\n",
       "    <tr>\n",
       "      <th>3</th>\n",
       "      <td>4.6</td>\n",
       "      <td>3.1</td>\n",
       "      <td>1.5</td>\n",
       "      <td>0.2</td>\n",
       "      <td>0</td>\n",
       "    </tr>\n",
       "    <tr>\n",
       "      <th>4</th>\n",
       "      <td>5.0</td>\n",
       "      <td>3.6</td>\n",
       "      <td>1.4</td>\n",
       "      <td>0.2</td>\n",
       "      <td>0</td>\n",
       "    </tr>\n",
       "  </tbody>\n",
       "</table>\n",
       "</div>"
      ],
      "text/plain": [
       "   sepal length (cm)  sepal width (cm)  petal length (cm)  petal width (cm)  \\\n",
       "0                5.1               3.5                1.4               0.2   \n",
       "1                4.9               3.0                1.4               0.2   \n",
       "2                4.7               3.2                1.3               0.2   \n",
       "3                4.6               3.1                1.5               0.2   \n",
       "4                5.0               3.6                1.4               0.2   \n",
       "\n",
       "   class  \n",
       "0      0  \n",
       "1      0  \n",
       "2      0  \n",
       "3      0  \n",
       "4      0  "
      ]
     },
     "execution_count": 4,
     "metadata": {},
     "output_type": "execute_result"
    }
   ],
   "source": [
    "import pandas as pd\n",
    "from sklearn.model_selection import train_test_split\n",
    "\n",
    "iris = pd.DataFrame(iris_ds.data)\n",
    "iris.columns = iris_ds.feature_names\n",
    "iris['class'] = iris_ds.target\n",
    "iris.head()\n"
   ]
  },
  {
   "cell_type": "code",
   "execution_count": 5,
   "id": "b8e39a0a-3cb9-4cd9-a825-7bc0c051726c",
   "metadata": {},
   "outputs": [
    {
     "data": {
      "text/html": [
       "<div>\n",
       "<style scoped>\n",
       "    .dataframe tbody tr th:only-of-type {\n",
       "        vertical-align: middle;\n",
       "    }\n",
       "\n",
       "    .dataframe tbody tr th {\n",
       "        vertical-align: top;\n",
       "    }\n",
       "\n",
       "    .dataframe thead th {\n",
       "        text-align: right;\n",
       "    }\n",
       "</style>\n",
       "<table border=\"1\" class=\"dataframe\">\n",
       "  <thead>\n",
       "    <tr style=\"text-align: right;\">\n",
       "      <th></th>\n",
       "      <th>sepal length (cm)</th>\n",
       "      <th>sepal width (cm)</th>\n",
       "      <th>petal length (cm)</th>\n",
       "      <th>petal width (cm)</th>\n",
       "      <th>class</th>\n",
       "    </tr>\n",
       "  </thead>\n",
       "  <tbody>\n",
       "    <tr>\n",
       "      <th>count</th>\n",
       "      <td>150.000000</td>\n",
       "      <td>150.000000</td>\n",
       "      <td>150.000000</td>\n",
       "      <td>150.000000</td>\n",
       "      <td>150.000000</td>\n",
       "    </tr>\n",
       "    <tr>\n",
       "      <th>mean</th>\n",
       "      <td>5.843333</td>\n",
       "      <td>3.057333</td>\n",
       "      <td>3.758000</td>\n",
       "      <td>1.199333</td>\n",
       "      <td>1.000000</td>\n",
       "    </tr>\n",
       "    <tr>\n",
       "      <th>std</th>\n",
       "      <td>0.828066</td>\n",
       "      <td>0.435866</td>\n",
       "      <td>1.765298</td>\n",
       "      <td>0.762238</td>\n",
       "      <td>0.819232</td>\n",
       "    </tr>\n",
       "    <tr>\n",
       "      <th>min</th>\n",
       "      <td>4.300000</td>\n",
       "      <td>2.000000</td>\n",
       "      <td>1.000000</td>\n",
       "      <td>0.100000</td>\n",
       "      <td>0.000000</td>\n",
       "    </tr>\n",
       "    <tr>\n",
       "      <th>25%</th>\n",
       "      <td>5.100000</td>\n",
       "      <td>2.800000</td>\n",
       "      <td>1.600000</td>\n",
       "      <td>0.300000</td>\n",
       "      <td>0.000000</td>\n",
       "    </tr>\n",
       "    <tr>\n",
       "      <th>50%</th>\n",
       "      <td>5.800000</td>\n",
       "      <td>3.000000</td>\n",
       "      <td>4.350000</td>\n",
       "      <td>1.300000</td>\n",
       "      <td>1.000000</td>\n",
       "    </tr>\n",
       "    <tr>\n",
       "      <th>75%</th>\n",
       "      <td>6.400000</td>\n",
       "      <td>3.300000</td>\n",
       "      <td>5.100000</td>\n",
       "      <td>1.800000</td>\n",
       "      <td>2.000000</td>\n",
       "    </tr>\n",
       "    <tr>\n",
       "      <th>max</th>\n",
       "      <td>7.900000</td>\n",
       "      <td>4.400000</td>\n",
       "      <td>6.900000</td>\n",
       "      <td>2.500000</td>\n",
       "      <td>2.000000</td>\n",
       "    </tr>\n",
       "  </tbody>\n",
       "</table>\n",
       "</div>"
      ],
      "text/plain": [
       "       sepal length (cm)  sepal width (cm)  petal length (cm)  \\\n",
       "count         150.000000        150.000000         150.000000   \n",
       "mean            5.843333          3.057333           3.758000   \n",
       "std             0.828066          0.435866           1.765298   \n",
       "min             4.300000          2.000000           1.000000   \n",
       "25%             5.100000          2.800000           1.600000   \n",
       "50%             5.800000          3.000000           4.350000   \n",
       "75%             6.400000          3.300000           5.100000   \n",
       "max             7.900000          4.400000           6.900000   \n",
       "\n",
       "       petal width (cm)       class  \n",
       "count        150.000000  150.000000  \n",
       "mean           1.199333    1.000000  \n",
       "std            0.762238    0.819232  \n",
       "min            0.100000    0.000000  \n",
       "25%            0.300000    0.000000  \n",
       "50%            1.300000    1.000000  \n",
       "75%            1.800000    2.000000  \n",
       "max            2.500000    2.000000  "
      ]
     },
     "execution_count": 5,
     "metadata": {},
     "output_type": "execute_result"
    }
   ],
   "source": [
    "iris.describe()"
   ]
  },
  {
   "cell_type": "code",
   "execution_count": 8,
   "id": "d3792f78-0686-4311-a807-628d3ca772f9",
   "metadata": {},
   "outputs": [],
   "source": [
    "X = iris.drop('class', axis=1).values\n",
    "y = iris[\"class\"].values\n",
    "\n",
    "X_min = X.min(axis=0)[None,:]\n",
    "X_max = X.max(axis=0)[None,:]\n",
    "X_mean = X.mean(axis=0)[None,:]\n",
    "X_std = X.std(axis=0)[None,:]\n",
    "\n",
    "y_max = y.max()\n",
    "\n",
    "#X = (X - X_min) / (X_max - X_min) *y_max\n",
    "X = (X - X_mean) / X_std \n",
    "X = np.minimum(5., X)\n",
    "X = np.maximum(-5., X)\n",
    "X = X\n"
   ]
  },
  {
   "cell_type": "code",
   "execution_count": 9,
   "id": "dae6dabe-1a34-4295-88bb-5a5a427496e0",
   "metadata": {},
   "outputs": [
    {
     "data": {
      "image/png": "[encoded data removed]",
      "text/plain": [
       "<Figure size 432x288 with 1 Axes>"
      ]
     },
     "metadata": {
      "needs_background": "light"
     },
     "output_type": "display_data"
    },
    {
     "data": {
      "text/plain": [
       "(-2.43394714190809, 3.0907752482994253)"
      ]
     },
     "execution_count": 9,
     "metadata": {},
     "output_type": "execute_result"
    }
   ],
   "source": [
    "import matplotlib.pyplot as plt\n",
    "\n",
    "plt.plot(X)\n",
    "plt.show()\n",
    "\n",
    "X.min(), X.max()\n"
   ]
  },
  {
   "cell_type": "code",
   "execution_count": 93,
   "id": "c8455576-ed79-443c-b199-62763032d49c",
   "metadata": {},
   "outputs": [
    {
     "data": {
      "text/plain": [
       "((150,), (120,), (30,))"
      ]
     },
     "execution_count": 93,
     "metadata": {},
     "output_type": "execute_result"
    }
   ],
   "source": [
    "N = len(X)\n",
    "idx = np.arange(N)\n",
    "np.random.shuffle(idx)\n",
    "idx_train = idx[:N//5*4]\n",
    "idx_test = idx[N//5*4:]\n",
    "idx.shape, idx_train.shape, idx_test.shape\n"
   ]
  },
  {
   "cell_type": "code",
   "execution_count": 94,
   "id": "23a9df10-b5b1-4721-a312-cbf5b7f9e14b",
   "metadata": {},
   "outputs": [
    {
     "data": {
      "text/plain": [
       "((120, 4), (30, 4), (120,), (30,))"
      ]
     },
     "execution_count": 94,
     "metadata": {},
     "output_type": "execute_result"
    }
   ],
   "source": [
    "#X_train, X_test, y_train, y_test = train_test_split(X, y, test_size = 0.2)   \n",
    "X_train, X_test = X[idx_train,:], X[idx_test,:]\n",
    "y_train, y_test = y[idx_train], y[idx_test]\n",
    "X_train.shape, X_test.shape, y_train.shape, y_test.shape\n"
   ]
  },
  {
   "cell_type": "code",
   "execution_count": 95,
   "id": "97892919-cb48-400d-87d7-536b279ed73a",
   "metadata": {},
   "outputs": [],
   "source": [
    "np.savetxt(\"data/X_train.csv\", X_train, delimiter=\",\")\n",
    "np.savetxt(\"data/X_test.csv\", X_test, delimiter=\",\")\n",
    "np.savetxt(\"data/y_train.csv\", y_train, delimiter=\",\")\n",
    "np.savetxt(\"data/y_test.csv\", y_test, delimiter=\",\")\n"
   ]
  },
  {
   "cell_type": "code",
   "execution_count": 96,
   "id": "71457dca-87e1-4600-9451-ca45e0625d11",
   "metadata": {},
   "outputs": [
    {
     "data": {
      "text/plain": [
       "MLPClassifier(alpha=1e-05, hidden_layer_sizes=(3, 3), random_state=1,\n",
       "              solver='lbfgs')"
      ]
     },
     "execution_count": 96,
     "metadata": {},
     "output_type": "execute_result"
    }
   ],
   "source": [
    "clf = MLPClassifier(solver='lbfgs', alpha=1e-5, hidden_layer_sizes=(3, 3), random_state=1)\n",
    "clf.fit(X_train, y_train)\n"
   ]
  },
  {
   "cell_type": "code",
   "execution_count": 97,
   "id": "91abf764-0653-427f-a285-2f5142131542",
   "metadata": {},
   "outputs": [
    {
     "data": {
      "text/html": [
       "<div>\n",
       "<style scoped>\n",
       "    .dataframe tbody tr th:only-of-type {\n",
       "        vertical-align: middle;\n",
       "    }\n",
       "\n",
       "    .dataframe tbody tr th {\n",
       "        vertical-align: top;\n",
       "    }\n",
       "\n",
       "    .dataframe thead th {\n",
       "        text-align: right;\n",
       "    }\n",
       "</style>\n",
       "<table border=\"1\" class=\"dataframe\">\n",
       "  <thead>\n",
       "    <tr style=\"text-align: right;\">\n",
       "      <th></th>\n",
       "      <th>0</th>\n",
       "      <th>1</th>\n",
       "      <th>2</th>\n",
       "      <th>3</th>\n",
       "      <th>4</th>\n",
       "      <th>5</th>\n",
       "      <th>6</th>\n",
       "      <th>7</th>\n",
       "      <th>8</th>\n",
       "      <th>9</th>\n",
       "      <th>...</th>\n",
       "      <th>20</th>\n",
       "      <th>21</th>\n",
       "      <th>22</th>\n",
       "      <th>23</th>\n",
       "      <th>24</th>\n",
       "      <th>25</th>\n",
       "      <th>26</th>\n",
       "      <th>27</th>\n",
       "      <th>28</th>\n",
       "      <th>29</th>\n",
       "    </tr>\n",
       "  </thead>\n",
       "  <tbody>\n",
       "    <tr>\n",
       "      <th>pred</th>\n",
       "      <td>2</td>\n",
       "      <td>1</td>\n",
       "      <td>0</td>\n",
       "      <td>2</td>\n",
       "      <td>1</td>\n",
       "      <td>0</td>\n",
       "      <td>0</td>\n",
       "      <td>1</td>\n",
       "      <td>2</td>\n",
       "      <td>0</td>\n",
       "      <td>...</td>\n",
       "      <td>1</td>\n",
       "      <td>1</td>\n",
       "      <td>1</td>\n",
       "      <td>2</td>\n",
       "      <td>2</td>\n",
       "      <td>0</td>\n",
       "      <td>1</td>\n",
       "      <td>2</td>\n",
       "      <td>1</td>\n",
       "      <td>0</td>\n",
       "    </tr>\n",
       "    <tr>\n",
       "      <th>test</th>\n",
       "      <td>2</td>\n",
       "      <td>1</td>\n",
       "      <td>0</td>\n",
       "      <td>2</td>\n",
       "      <td>1</td>\n",
       "      <td>0</td>\n",
       "      <td>0</td>\n",
       "      <td>1</td>\n",
       "      <td>2</td>\n",
       "      <td>0</td>\n",
       "      <td>...</td>\n",
       "      <td>1</td>\n",
       "      <td>1</td>\n",
       "      <td>1</td>\n",
       "      <td>2</td>\n",
       "      <td>2</td>\n",
       "      <td>0</td>\n",
       "      <td>1</td>\n",
       "      <td>2</td>\n",
       "      <td>1</td>\n",
       "      <td>0</td>\n",
       "    </tr>\n",
       "  </tbody>\n",
       "</table>\n",
       "<p>2 rows × 30 columns</p>\n",
       "</div>"
      ],
      "text/plain": [
       "      0   1   2   3   4   5   6   7   8   9   ...  20  21  22  23  24  25  26  \\\n",
       "pred   2   1   0   2   1   0   0   1   2   0  ...   1   1   1   2   2   0   1   \n",
       "test   2   1   0   2   1   0   0   1   2   0  ...   1   1   1   2   2   0   1   \n",
       "\n",
       "      27  28  29  \n",
       "pred   2   1   0  \n",
       "test   2   1   0  \n",
       "\n",
       "[2 rows x 30 columns]"
      ]
     },
     "execution_count": 97,
     "metadata": {},
     "output_type": "execute_result"
    }
   ],
   "source": [
    "prediction = clf.predict(X_test)\n",
    "pd.DataFrame({\"pred\": prediction, \"test\": y_test}).T\n"
   ]
  },
  {
   "cell_type": "code",
   "execution_count": 98,
   "id": "71de904e-0d40-46fa-b60d-5306de0b39e5",
   "metadata": {},
   "outputs": [
    {
     "name": "stdout",
     "output_type": "stream",
     "text": [
      "MLP accuracy: 0.9666666666666667\n"
     ]
    }
   ],
   "source": [
    "from sklearn.metrics import accuracy_score\n",
    "print('MLP accuracy:',accuracy_score(prediction,y_test))\n"
   ]
  },
  {
   "cell_type": "code",
   "execution_count": 99,
   "id": "49c9f9ec-9cf3-41cb-8010-4c3e695a90a5",
   "metadata": {},
   "outputs": [
    {
     "name": "stdout",
     "output_type": "stream",
     "text": [
      "(10, 3) (9,)\n"
     ]
    },
    {
     "data": {
      "text/plain": [
       "([array([[ 0.26518875, -1.05766314, -2.21479371],\n",
       "         [ 0.30588575,  0.46051159,  0.91145662],\n",
       "         [-0.46351603, -9.4624696 , -0.53253178],\n",
       "         [ 0.15693035,  2.47094449,  8.43154361]]),\n",
       "  array([[ 0.04968117, -0.22630792,  0.12060684],\n",
       "         [-1.65578007,  0.37851825,  2.47837903],\n",
       "         [ 6.4633065 ,  0.45165921, -0.3705908 ]]),\n",
       "  array([[-7.40431736, -3.43680621, 10.01534354],\n",
       "         [-9.69209843, 10.56019775, -0.91340231],\n",
       "         [ 7.87175529, -3.43312061, -4.35753477]])],\n",
       " [array([-0.98692281,  7.1401457 , -3.17428943]),\n",
       "  array([12.79683109, 13.09355612, -2.97434298]),\n",
       "  array([ 2.79185934,  5.04799285, -7.76102244])],\n",
       " -9.692098434449832,\n",
       " 10.560197747579492)"
      ]
     },
     "execution_count": 99,
     "metadata": {},
     "output_type": "execute_result"
    }
   ],
   "source": [
    "coefs, intercepts = np.concatenate(clf.coefs_), np.concatenate(clf.intercepts_)\n",
    "print(coefs.shape, intercepts.shape)\n",
    "\n",
    "clf.coefs_, clf.intercepts_, coefs.min(), coefs.max()\n"
   ]
  },
  {
   "cell_type": "code",
   "execution_count": 100,
   "id": "911a0363-001b-4172-a6df-c679f50027ed",
   "metadata": {},
   "outputs": [],
   "source": [
    "np.savetxt(\"data/coefs.csv\", coefs, delimiter=\",\")\n",
    "np.savetxt(\"data/intercepts.csv\", intercepts, delimiter=\",\")\n"
   ]
  },
  {
   "cell_type": "code",
   "execution_count": 101,
   "id": "fc37efd7-af0b-4efe-9958-e26f27f1f7ad",
   "metadata": {},
   "outputs": [
    {
     "name": "stdout",
     "output_type": "stream",
     "text": [
      "(4, 3, 150) -16.89838057141918 14.833142462117817\n"
     ]
    },
    {
     "data": {
      "text/plain": [
       "(array([[ 0.66085546,  1.97785559,  4.14171768],\n",
       "        [ 0.9454241 ,  1.42333781,  2.81710757],\n",
       "        [ 0.72659671, 14.83314246,  0.83478416],\n",
       "        [ 0.26867982,  4.23049403, 14.43561161]]),\n",
       " array([[ -0.49590937,  -2.63571685,  -5.51930845],\n",
       "        [ -0.74450975,  -1.12086086,  -2.21843724],\n",
       "        [ -0.82776173, -16.89838057,  -0.95101226],\n",
       "        [ -0.22709022,  -3.57564565, -12.20108844]]))"
      ]
     },
     "execution_count": 101,
     "metadata": {},
     "output_type": "execute_result"
    }
   ],
   "source": [
    "tmp1 = X.T[:,None,:] * coefs[:4,:,None]\n",
    "print(tmp1.shape, tmp1.min(), tmp1.max())\n",
    "tmp1.max(axis=2), tmp1.min(axis=2)\n"
   ]
  },
  {
   "cell_type": "code",
   "execution_count": 102,
   "id": "c9bcc5fb-8307-44ab-8632-ef143ce39fea",
   "metadata": {},
   "outputs": [
    {
     "name": "stdout",
     "output_type": "stream",
     "text": [
      "(3, 150) -12.070864933045826 20.89156114590106\n"
     ]
    },
    {
     "data": {
      "text/plain": [
       "(array([ 0.34219737, 20.89156115,  9.86635003]),\n",
       " array([ -1.97562163,  -9.04247094, -12.07086493]))"
      ]
     },
     "execution_count": 102,
     "metadata": {},
     "output_type": "execute_result"
    }
   ],
   "source": [
    "tst1 = tmp1.sum(axis=0) + intercepts[:3][:,None]\n",
    "print(tst1.shape, tst1.min(), tst1.max())\n",
    "tst1.max(axis=1), tst1.min(axis=1)\n"
   ]
  },
  {
   "cell_type": "code",
   "execution_count": 103,
   "id": "f7b9c4c5-1688-4bdf-aca1-4f1bff23200b",
   "metadata": {},
   "outputs": [
    {
     "name": "stdout",
     "output_type": "stream",
     "text": [
      "(3, 150) 0.0 20.89156114590106\n"
     ]
    },
    {
     "data": {
      "text/plain": [
       "(array([ 0.34219737, 20.89156115,  9.86635003]), array([0., 0., 0.]))"
      ]
     },
     "execution_count": 103,
     "metadata": {},
     "output_type": "execute_result"
    }
   ],
   "source": [
    "act1 = np.maximum(0, tst1)\n",
    "print(act1.shape, act1.min(), act1.max())\n",
    "act1.max(axis=1), act1.min(axis=1)\n"
   ]
  },
  {
   "cell_type": "code",
   "execution_count": 104,
   "id": "6e0d4672-722f-4f43-bfcc-3b1a29538e01",
   "metadata": {},
   "outputs": [
    {
     "name": "stdout",
     "output_type": "stream",
     "text": [
      "(3, 3, 150) -34.59183057786514 63.76924422117654\n"
     ]
    },
    {
     "data": {
      "text/plain": [
       "(array([[ 1.70007654e-02, -0.00000000e+00,  4.12713443e-02],\n",
       "        [-0.00000000e+00,  7.90783719e+00,  5.17772070e+01],\n",
       "        [ 6.37692442e+01,  4.45622788e+00, -0.00000000e+00]]),\n",
       " array([[  0.        ,  -0.07744198,   0.        ],\n",
       "        [-34.59183058,   0.        ,   0.        ],\n",
       "        [  0.        ,   0.        ,  -3.65637852]]))"
      ]
     },
     "execution_count": 104,
     "metadata": {},
     "output_type": "execute_result"
    }
   ],
   "source": [
    "tmp2 = act1[:,None,:] * coefs[4:7,:,None]\n",
    "print(tmp2.shape, tmp2.min(), tmp2.max())\n",
    "tmp2.max(axis=2), tmp2.min(axis=2)\n"
   ]
  },
  {
   "cell_type": "code",
   "execution_count": 105,
   "id": "79030e38-11c7-494a-8f80-965f946d02cf",
   "metadata": {},
   "outputs": [
    {
     "name": "stdout",
     "output_type": "stream",
     "text": [
      "(3, 150) -21.7949994837006 76.56607531534108\n"
     ]
    },
    {
     "data": {
      "text/plain": [
       "(array([76.56607532, 21.00139331, 48.80286399]),\n",
       " array([-21.79499948,  13.09355612,  -6.63072149]))"
      ]
     },
     "execution_count": 105,
     "metadata": {},
     "output_type": "execute_result"
    }
   ],
   "source": [
    "tst2 = tmp2.sum(axis=0) + intercepts[3:6][:,None]\n",
    "print(tst2.shape, tst2.min(), tst2.max())\n",
    "tst2.max(axis=1), tst2.min(axis=1)\n"
   ]
  },
  {
   "cell_type": "code",
   "execution_count": 106,
   "id": "0a8109c8-fa21-4e0a-9dac-5c6c0b2efa45",
   "metadata": {},
   "outputs": [
    {
     "name": "stdout",
     "output_type": "stream",
     "text": [
      "(3, 150) 0.0 76.56607531534108\n"
     ]
    },
    {
     "data": {
      "text/plain": [
       "(array([76.56607532, 21.00139331, 48.80286399]),\n",
       " array([ 0.        , 13.09355612,  0.        ]))"
      ]
     },
     "execution_count": 106,
     "metadata": {},
     "output_type": "execute_result"
    }
   ],
   "source": [
    "act2 = np.maximum(0, tst2)\n",
    "print(act2.shape, act2.min(), act2.max())\n",
    "act2.max(axis=1), act2.min(axis=1)\n"
   ]
  },
  {
   "cell_type": "code",
   "execution_count": 107,
   "id": "71bf2370-f0cc-4802-9dbe-478a69eea87d",
   "metadata": {},
   "outputs": [
    {
     "name": "stdout",
     "output_type": "stream",
     "text": [
      "(3, 3, 150) -566.9195207487883 766.8355479037928\n"
     ]
    },
    {
     "data": {
      "text/plain": [
       "(array([[  -0.        ,   -0.        ,  766.8355479 ],\n",
       "        [-126.90403476,  221.77886631,  -11.95968437],\n",
       "        [ 384.16420264,   -0.        ,   -0.        ]]),\n",
       " array([[-566.91952075, -263.14276283,    0.        ],\n",
       "        [-203.5475712 ,  138.27054184,  -19.1827211 ],\n",
       "        [   0.        , -167.5461184 , -212.66017694]]))"
      ]
     },
     "execution_count": 107,
     "metadata": {},
     "output_type": "execute_result"
    }
   ],
   "source": [
    "tmp3 = act2[:,None,:] * coefs[7:,:,None]\n",
    "print(tmp3.shape, tmp3.min(), tmp3.max())\n",
    "tmp3.max(axis=2), tmp3.min(axis=2)\n"
   ]
  },
  {
   "cell_type": "code",
   "execution_count": 108,
   "id": "32223f7f-7d8d-476a-a99d-d5e6e6a0e103",
   "metadata": {},
   "outputs": [
    {
     "name": "stdout",
     "output_type": "stream",
     "text": [
      "(3, 150) -734.2218954737748 743.044512263503\n"
     ]
    },
    {
     "data": {
      "text/plain": [
       "(array([183.40849078, 118.48623937, 743.04451226]),\n",
       " array([-734.22189547,  -72.76558047, -239.60392048]))"
      ]
     },
     "execution_count": 108,
     "metadata": {},
     "output_type": "execute_result"
    }
   ],
   "source": [
    "tst3 = tmp3.sum(axis=0) + intercepts[6:][:,None]\n",
    "print(tst3.shape, tst3.min(), tst3.max())\n",
    "tst3.max(axis=1), tst3.min(axis=1)\n"
   ]
  },
  {
   "cell_type": "code",
   "execution_count": 109,
   "id": "724ce798-32c9-49a6-9705-ee35d2e76485",
   "metadata": {},
   "outputs": [
    {
     "name": "stdout",
     "output_type": "stream",
     "text": [
      "(3, 150) 0.0 1.0\n"
     ]
    },
    {
     "data": {
      "text/plain": [
       "(array([1., 1., 1.]),\n",
       " array([0.00000000e+000, 0.00000000e+000, 1.94108259e-184]))"
      ]
     },
     "execution_count": 109,
     "metadata": {},
     "output_type": "execute_result"
    }
   ],
   "source": [
    "from scipy.special import softmax\n",
    "act3 = softmax(tst3, axis=0)\n",
    "print(act3.shape, act3.min(), act3.max())\n",
    "act3.max(axis=1), act3.min(axis=1)\n"
   ]
  },
  {
   "cell_type": "code",
   "execution_count": 112,
   "id": "9a14cc0c-602c-4363-9ccf-229916b61aa7",
   "metadata": {},
   "outputs": [],
   "source": [
    "y_temp = np.argmax(tst3[:,idx_test], axis=0)\n"
   ]
  },
  {
   "cell_type": "code",
   "execution_count": 114,
   "id": "8ff8ed5b-5559-4039-962d-e22ac7cb5e21",
   "metadata": {},
   "outputs": [
    {
     "name": "stdout",
     "output_type": "stream",
     "text": [
      "Confirm accuracy: 0.9666666666666667\n"
     ]
    }
   ],
   "source": [
    "print('Confirm accuracy:',accuracy_score(y_temp,y_test))\n"
   ]
  },
  {
   "cell_type": "code",
   "execution_count": null,
   "id": "a29fff08-6f50-4a2e-92c8-c799bc87cac3",
   "metadata": {},
   "outputs": [],
   "source": []
  },
  {
   "cell_type": "code",
   "execution_count": null,
   "id": "bb3d8f20-ef8e-418b-958b-ec60f797c99a",
   "metadata": {},
   "outputs": [],
   "source": []
  },
  {
   "cell_type": "code",
   "execution_count": null,
   "id": "db57d760-d69a-4e50-95cd-b953b1bbe232",
   "metadata": {},
   "outputs": [],
   "source": []
  },
  {
   "cell_type": "code",
   "execution_count": null,
   "id": "882c6496-a2b1-4fab-992c-db8562c36159",
   "metadata": {},
   "outputs": [],
   "source": []
  },
  {
   "cell_type": "code",
   "execution_count": null,
   "id": "1c1b087b-bc83-44e5-8a74-da36414dcdbe",
   "metadata": {},
   "outputs": [],
   "source": [
    "X_temp = np.zeros_like(bos)\n",
    "X_temp[:,0] = 0 # lr.intercept_\n",
    "X_temp[:,1:] = X*lr.coef_[None,:]\n",
    "\n",
    "X_stat = pd.DataFrame(X_temp, columns=[\"Intercept\"]+list(bos.columns[:-1])).describe()\n",
    "\n",
    "print(\"all min: %f, all max: %f\\n\"%(X_stat.loc[\"min\"].min(), X_stat.loc[\"max\"].max()))\n",
    "\n",
    "X_stat\n"
   ]
  },
  {
   "cell_type": "code",
   "execution_count": null,
   "id": "fa534c0f-e021-4556-9239-9b59505730bd",
   "metadata": {},
   "outputs": [],
   "source": [
    "y_temp = X.dot(lr.coef_) # + lr.intercept_\n",
    "\n",
    "# print(mean_absolute_error(y, y_temp))\n",
    "\n",
    "y_stat = pd.DataFrame(y_temp, columns=bos.columns[-1:]).describe()\n",
    "\n",
    "y_stat\n"
   ]
  },
  {
   "cell_type": "code",
   "execution_count": null,
   "id": "d935e4ca-7db0-4d9d-93ca-5fb2978c8608",
   "metadata": {},
   "outputs": [],
   "source": [
    "Z_temp = X_temp.cumsum(axis=1)\n",
    "\n",
    "Z_stat = pd.DataFrame(Z_temp, columns=X_stat.columns).describe()\n",
    "\n",
    "print(\"all min: %f, all max: %f\\n\"%(Z_stat.loc[\"min\"].min(), Z_stat.loc[\"max\"].max()))\n",
    "\n",
    "Z_stat\n"
   ]
  },
  {
   "cell_type": "code",
   "execution_count": null,
   "id": "8035cf28-6e5c-4244-b7d0-f0a135092f3e",
   "metadata": {},
   "outputs": [],
   "source": []
  },
  {
   "cell_type": "code",
   "execution_count": null,
   "id": "aeff6695-59e0-4e6a-9acb-3b2199f44910",
   "metadata": {},
   "outputs": [],
   "source": [
    "y_tests = pd.concat([\n",
    "    pd.read_csv(\"data/y_test0/y_test.csv\", header=None),\n",
    "    pd.read_csv(\"data/y_test1/y_test.csv\", header=None)], axis=1)\n",
    "\n",
    "y_tests.columns = [\"0\",\"1\"]\n",
    "y_tests[\"true\"] = y_test\n",
    "y_tests"
   ]
  },
  {
   "cell_type": "code",
   "execution_count": null,
   "id": "55595345-54fc-446b-bf74-3f45ee028ce7",
   "metadata": {},
   "outputs": [],
   "source": [
    "y_tests[[\"0\",\"true\"]].plot()\n",
    "plt.show()\n"
   ]
  },
  {
   "cell_type": "code",
   "execution_count": null,
   "id": "fa846c0d-bba6-4d7e-8614-f99164412970",
   "metadata": {},
   "outputs": [],
   "source": []
  }
 ],
 "metadata": {
  "kernelspec": {
   "display_name": "Python 3 (ipykernel)",
   "language": "python",
   "name": "python3"
  },
  "language_info": {
   "codemirror_mode": {
    "name": "ipython",
    "version": 3
   },
   "file_extension": ".py",
   "mimetype": "text/x-python",
   "name": "python",
   "nbconvert_exporter": "python",
   "pygments_lexer": "ipython3",
   "version": "3.9.6"
  }
 },
 "nbformat": 4,
 "nbformat_minor": 5
}
